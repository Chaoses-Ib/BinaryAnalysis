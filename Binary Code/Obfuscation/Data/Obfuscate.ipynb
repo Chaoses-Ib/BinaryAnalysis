{
 "cells": [
  {
   "cell_type": "code",
   "execution_count": 16,
   "metadata": {},
   "outputs": [],
   "source": [
    "from pwn import *\n",
    "from nativetypes import *"
   ]
  },
  {
   "cell_type": "code",
   "execution_count": 12,
   "metadata": {},
   "outputs": [],
   "source": [
    "def cipher(data, key):\n",
    "    result = bytearray(data)\n",
    "    for i in range(len(result)):\n",
    "        result[i] ^= (key >> ((i % 8) * 8)) & 0xff\n",
    "    return result"
   ]
  },
  {
   "cell_type": "code",
   "execution_count": 17,
   "metadata": {},
   "outputs": [
    {
     "data": {
      "text/plain": [
       "uint64(7305246811387187981)"
      ]
     },
     "execution_count": 17,
     "metadata": {},
     "output_type": "execute_result"
    }
   ],
   "source": [
    "def gen_key(seed):\n",
    "    # Use the MurmurHash3 64-bit finalizer to hash our seed\n",
    "    key = uint64(seed)\n",
    "    key ^= key >> 33\n",
    "    key *= 0xff51afd7ed558ccd\n",
    "    key ^= key >> 33\n",
    "    key *= 0xc4ceb9fe1a85ec53\n",
    "    key ^= key >> 33\n",
    "\n",
    "    # Make sure that a bit in each byte is set\n",
    "    key |= 0x0101010101010101\n",
    "\n",
    "    return key\n",
    "\n",
    "gen_key(10)"
   ]
  },
  {
   "cell_type": "code",
   "execution_count": 31,
   "metadata": {},
   "outputs": [
    {
     "name": "stdout",
     "output_type": "stream",
     "text": [
      "6 Hello World!\n",
      "\u0000\n"
     ]
    }
   ],
   "source": [
    "ciphertext = p32(0xAB11203B) + p32(0x86E293DE) + p32(0xE6192901) + p8(0xBB) + p16(0x1B3)[:1]\n",
    "for line in range(100):\n",
    "    result = cipher(ciphertext, gen_key(line))\n",
    "    try:\n",
    "        result.decode()\n",
    "        print(line, result.decode())\n",
    "    except UnicodeDecodeError:\n",
    "        pass"
   ]
  }
 ],
 "metadata": {
  "kernelspec": {
   "display_name": "Python 3.9.1 ('base')",
   "language": "python",
   "name": "python3"
  },
  "language_info": {
   "codemirror_mode": {
    "name": "ipython",
    "version": 3
   },
   "file_extension": ".py",
   "mimetype": "text/x-python",
   "name": "python",
   "nbconvert_exporter": "python",
   "pygments_lexer": "ipython3",
   "version": "3.9.1"
  },
  "orig_nbformat": 4,
  "vscode": {
   "interpreter": {
    "hash": "19d1d53a962d236aa061289c2ac16dc8e6d9648c89fe79f459ae9a3493bc67b4"
   }
  }
 },
 "nbformat": 4,
 "nbformat_minor": 2
}
